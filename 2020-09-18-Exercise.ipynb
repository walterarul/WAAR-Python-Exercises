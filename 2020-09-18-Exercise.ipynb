{
 "cells": [
  {
   "cell_type": "markdown",
   "metadata": {},
   "source": [
    "# Write a python program to create a dictionary from a string\n",
    "    #Input : \"Python World\"\n",
    "    #Output : {'P': 1, 'y': 1, 't': 1, 'h': 1, 'o': 2, 'n': 1, ' ': 1, 'W': 1, 'r': 1, 'l': 1, 'd': 1}"
   ]
  },
  {
   "cell_type": "code",
   "execution_count": 2,
   "metadata": {},
   "outputs": [
    {
     "name": "stdout",
     "output_type": "stream",
     "text": [
      "{'P': 1, 'y': 1, 't': 1, 'h': 1, 'o': 2, 'n': 1, ' ': 1, 'W': 1, 'r': 1, 'l': 1, 'd': 1}\n",
      "<class 'dict'>\n"
     ]
    }
   ],
   "source": [
    "inptxt = \"Python World\"\n",
    "char_count = {} #declaring an empty set\n",
    "for ele in inptxt: #loop through each character of the string\n",
    "    if (ele not in char_count): #check if the character in loop is not present in the set - new character\n",
    "        countchr = 1\n",
    "        char_count[ele] = countchr #create item in set with the character(ele) as key and count(countchr) as the value pair\n",
    "    else:\n",
    "        countchr = char_count[ele] #get the value of the key (which is the character in loop)\n",
    "        countchr = countchr + 1\n",
    "        char_count[ele] = countchr\n",
    "print(char_count) \n",
    "print(type(char_count))"
   ]
  }
 ],
 "metadata": {
  "kernelspec": {
   "display_name": "Python 3",
   "language": "python",
   "name": "python3"
  },
  "language_info": {
   "codemirror_mode": {
    "name": "ipython",
    "version": 3
   },
   "file_extension": ".py",
   "mimetype": "text/x-python",
   "name": "python",
   "nbconvert_exporter": "python",
   "pygments_lexer": "ipython3",
   "version": "3.8.3"
  }
 },
 "nbformat": 4,
 "nbformat_minor": 4
}
