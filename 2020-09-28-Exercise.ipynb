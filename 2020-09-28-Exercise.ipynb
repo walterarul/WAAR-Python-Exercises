{
 "cells": [
  {
   "cell_type": "markdown",
   "metadata": {},
   "source": [
    "# Write a program that lists all the folders in the \n",
    "    ## In Windows = 'C:/Windows' directory'\n",
    "    ## In Mac = '/Users/<username>'"
   ]
  },
  {
   "cell_type": "code",
   "execution_count": 2,
   "metadata": {},
   "outputs": [
    {
     "name": "stdout",
     "output_type": "stream",
     "text": [
      "['Music', '.condarc', '.DS_Store', '.CFUserTextEncoding', '.zshrc', 'Pictures', '.atom', '.zprofile', '.zsh_history', '.ipython', 'Desktop', 'Library', 'Public', '.idlerc', '.anaconda', 'Movies', 'opt', '.Trash', '.jupyter', 'Documents', '.anydesk', 'Downloads', '.gitconfig', '.conda']\n"
     ]
    }
   ],
   "source": [
    "import os\n",
    "os.chdir('/Users/arulanandrajwalter')\n",
    "print(os.listdir())"
   ]
  }
 ],
 "metadata": {
  "kernelspec": {
   "display_name": "Python 3",
   "language": "python",
   "name": "python3"
  },
  "language_info": {
   "codemirror_mode": {
    "name": "ipython",
    "version": 3
   },
   "file_extension": ".py",
   "mimetype": "text/x-python",
   "name": "python",
   "nbconvert_exporter": "python",
   "pygments_lexer": "ipython3",
   "version": "3.8.3"
  }
 },
 "nbformat": 4,
 "nbformat_minor": 4
}
