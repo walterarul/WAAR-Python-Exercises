{
 "cells": [
  {
   "cell_type": "markdown",
   "metadata": {},
   "source": [
    "# CLASSWORK\n",
    "## 1. Write a program which can compute the factorial of a given numbers.\n",
    "    #input --> 8\n",
    "    #output -> 40320\n",
    "## 2. write a program to print the numbers which can be divisible by 5 and 7 between 0 and n in comma separated form while n is input by console.\n",
    "    #input  -> 100\n",
    "    #output -> 0,35,70"
   ]
  },
  {
   "cell_type": "code",
   "execution_count": 5,
   "metadata": {},
   "outputs": [
    {
     "name": "stdout",
     "output_type": "stream",
     "text": [
      "Input is     :  8\n",
      "Factorial is :  40320\n"
     ]
    }
   ],
   "source": [
    "#SOLUTION CW-1\n",
    "def factorial(a):\n",
    "    z = 1\n",
    "    print(\"Input is     : \",a)\n",
    "    for i in range(1,a+1):\n",
    "        z = z * i\n",
    "    return z\n",
    "#x=int(input(\"Enter a number :\"))\n",
    "print(\"Factorial is : \",factorial(8))"
   ]
  },
  {
   "cell_type": "code",
   "execution_count": 6,
   "metadata": {},
   "outputs": [
    {
     "name": "stdout",
     "output_type": "stream",
     "text": [
      "Enter a number :100\n",
      "Input is       :  100\n",
      "Output is      : 0,35,70,"
     ]
    }
   ],
   "source": [
    "#SOLUTION CW-2\n",
    "def multiples(a):\n",
    "    print(\"Input is       : \",a)\n",
    "    print(\"Output is      : \",end=\"\")\n",
    "    for i in range(0,a+1):\n",
    "        if (i % 5 == 0 and i % 7 == 0):\n",
    "            print (i, end=\",\")\n",
    "\n",
    "x=int(input(\"Enter a number :\"))\n",
    "multiples(x)"
   ]
  },
  {
   "cell_type": "markdown",
   "metadata": {},
   "source": [
    "# HOMEWORK\n",
    "#Input : {'Chennai':29,'Bangalore':36,'Hyderabad':19,'Delhi':26,'Mumbai':32'}\n",
    "#Formula : F = (9/5)*C + 32 (Use formulae to get F1,F2,F3,F4,F5)\n",
    "#Outpput : {'chennai':F1,'Bangalore':F2,'Hyderabad':F3,'Delhi':F4,'Mumbai':F5'}\n",
    "#First logic + next function + finally anonymous function"
   ]
  },
  {
   "cell_type": "code",
   "execution_count": 2,
   "metadata": {},
   "outputs": [
    {
     "name": "stdout",
     "output_type": "stream",
     "text": [
      "Celcius   :  29\n",
      "Farenheit :  84.2\n",
      "Celcius   :  36\n",
      "Farenheit :  96.8\n",
      "Celcius   :  19\n",
      "Farenheit :  66.2\n",
      "Celcius   :  26\n",
      "Farenheit :  78.80000000000001\n",
      "Celcius   :  32\n",
      "Farenheit :  89.6\n"
     ]
    }
   ],
   "source": [
    "dictinp = {'Chennai': 29,'Bangalore': 36,'Hyderabad': 19,'Delhi': 26,'Mumbai': 32}\n",
    "for idx in dictinp.values():\n",
    "    print(\"Celcius   : \",idx)\n",
    "    print(\"Farenheit : \",(9/5)*idx+32)"
   ]
  },
  {
   "cell_type": "code",
   "execution_count": 3,
   "metadata": {},
   "outputs": [
    {
     "name": "stdout",
     "output_type": "stream",
     "text": [
      "Input  :  {'Chennai': 29, 'Bangalore': 36, 'Hyderabad': 19, 'Delhi': 26, 'Mumbai': 32}\n",
      "<class 'dict_keys'>\n",
      "Output :  {'Chennai': 84.2, 'Bangalore': 96.8, 'Hyderabad': 66.2, 'Delhi': 78.80000000000001, 'Mumbai': 89.6}\n"
     ]
    }
   ],
   "source": [
    "dictinp = {'Chennai': 29,'Bangalore': 36,'Hyderabad': 19,'Delhi': 26,'Mumbai': 32}\n",
    "print(\"Input  : \",dictinp)\n",
    "def cel_to_fht(dick):\n",
    "    print(type(dick))\n",
    "    for idx in dick:\n",
    "        dictinp[idx] = (9/5)*dictinp[idx]+32\n",
    "cel_to_fht(dictinp.keys())\n",
    "print(\"Output : \", dictinp)"
   ]
  },
  {
   "cell_type": "code",
   "execution_count": 4,
   "metadata": {},
   "outputs": [
    {
     "name": "stdout",
     "output_type": "stream",
     "text": [
      "Input  :  {'Chennai': 29, 'Bangalore': 36, 'Hyderabad': 19, 'Delhi': 26, 'Mumbai': 32}\n",
      "Output  :  {'Chennai': 84.2, 'Bangalore': 96.8, 'Hyderabad': 66.2, 'Delhi': 78.80000000000001, 'Mumbai': 89.6}\n"
     ]
    }
   ],
   "source": [
    "dictinp = {'Chennai': 29,'Bangalore': 36,'Hyderabad': 19,'Delhi': 26,'Mumbai': 32}\n",
    "print(\"Input  : \",dictinp)\n",
    "fn1 = lambda b,a : [b,((9/5)*a+32)]\n",
    "dictinp = dict(map(fn1,dictinp.keys(),dictinp.values()))\n",
    "print(\"Output  : \",dictinp)"
   ]
  }
 ],
 "metadata": {
  "kernelspec": {
   "display_name": "Python 3",
   "language": "python",
   "name": "python3"
  },
  "language_info": {
   "codemirror_mode": {
    "name": "ipython",
    "version": 3
   },
   "file_extension": ".py",
   "mimetype": "text/x-python",
   "name": "python",
   "nbconvert_exporter": "python",
   "pygments_lexer": "ipython3",
   "version": "3.8.3"
  }
 },
 "nbformat": 4,
 "nbformat_minor": 4
}
