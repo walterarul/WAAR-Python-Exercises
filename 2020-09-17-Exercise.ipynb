{
 "cells": [
  {
   "cell_type": "markdown",
   "metadata": {},
   "source": [
    "# Write a Python function to return a longest word from the list of words\n",
    "    #Input : [\"Welcome\", \"to\", \"Python\", \"World\"]\n",
    "    #Output : Welcome"
   ]
  },
  {
   "cell_type": "code",
   "execution_count": 1,
   "metadata": {},
   "outputs": [
    {
     "data": {
      "text/plain": [
       "'Welcome'"
      ]
     },
     "execution_count": 1,
     "metadata": {},
     "output_type": "execute_result"
    }
   ],
   "source": [
    "#My Solution 1\n",
    "inplist = [\"Welcome\", \"to\", \"Python\", \"World\"]\n",
    "fn = lambda a : len(a)\n",
    "inplist[inplist.count(max(list(map(fn, inplist))))]"
   ]
  },
  {
   "cell_type": "code",
   "execution_count": 2,
   "metadata": {},
   "outputs": [
    {
     "data": {
      "text/plain": [
       "'Welcome'"
      ]
     },
     "execution_count": 2,
     "metadata": {},
     "output_type": "execute_result"
    }
   ],
   "source": [
    "#My Solution 2\n",
    "inplist = [\"Welcome\", \"to\", \"Python\", \"World\"]\n",
    "inplist[inplist.count(max(list(map(lambda a : len(a), inplist))))]"
   ]
  },
  {
   "cell_type": "code",
   "execution_count": 3,
   "metadata": {},
   "outputs": [
    {
     "name": "stdout",
     "output_type": "stream",
     "text": [
      "Welcome\n"
     ]
    }
   ],
   "source": [
    "#Googled - Output\n",
    "inplist = [\"Welcome\", \"to\", \"Python\", \"World\"]\n",
    "longest_string = max(inplist, key=len)\n",
    "print(longest_string)"
   ]
  },
  {
   "cell_type": "markdown",
   "metadata": {},
   "source": [
    "## Below are the hands-on to find the solution (for learning purposes)!"
   ]
  },
  {
   "cell_type": "code",
   "execution_count": 4,
   "metadata": {},
   "outputs": [
    {
     "name": "stdout",
     "output_type": "stream",
     "text": [
      "4\n",
      "<class 'list'>\n",
      "7\n",
      "2\n",
      "6\n",
      "5\n"
     ]
    }
   ],
   "source": [
    "inplist = [\"Welcome\", \"to\", \"Python\", \"World\"]\n",
    "print(len(inplist))\n",
    "print(type(inplist))\n",
    "for idx in range(0,len(inplist)):\n",
    "    print(len(inplist[idx]))\n",
    "    "
   ]
  },
  {
   "cell_type": "code",
   "execution_count": 5,
   "metadata": {},
   "outputs": [
    {
     "name": "stdout",
     "output_type": "stream",
     "text": [
      "7\n"
     ]
    }
   ],
   "source": [
    "inplist = [\"Welcome\", \"to\", \"Python\", \"World\"]\n",
    "for idx in range(0,len(inplist)):\n",
    "    inplist[idx] = len(inplist[idx])\n",
    "print(max(inplist))"
   ]
  },
  {
   "cell_type": "code",
   "execution_count": 6,
   "metadata": {},
   "outputs": [
    {
     "name": "stdout",
     "output_type": "stream",
     "text": [
      "['Welcome', 'to', 'Python', 'World']\n",
      "to\n"
     ]
    }
   ],
   "source": [
    "inplist = [\"Welcome\", \"to\", \"Python\", \"World\"]\n",
    "print(str(inplist))\n",
    "fn1 = lambda a: max(a)\n",
    "print(fn1(inplist))\n"
   ]
  },
  {
   "cell_type": "code",
   "execution_count": 7,
   "metadata": {},
   "outputs": [
    {
     "name": "stdout",
     "output_type": "stream",
     "text": [
      "[\"['Welcome',\", \"'to',\", \"'Python',\", \"'World']\"]\n",
      "11\n"
     ]
    }
   ],
   "source": [
    "inplist = [\"Welcome\", \"to\", \"Python\", \"World\"]\n",
    "print(str(inplist).split())\n",
    "fn1 = lambda a : len(a)\n",
    "outstr = max(list(map(fn1,str(inplist).split())))\n",
    "print(outstr)"
   ]
  },
  {
   "cell_type": "code",
   "execution_count": 8,
   "metadata": {},
   "outputs": [
    {
     "data": {
      "text/plain": [
       "7"
      ]
     },
     "execution_count": 8,
     "metadata": {},
     "output_type": "execute_result"
    }
   ],
   "source": [
    "inplist = [\"Welcome\", \"to\", \"Python\", \"World\"]\n",
    "fn = lambda a : len(a)\n",
    "max(list(map(fn, inplist)))"
   ]
  },
  {
   "cell_type": "code",
   "execution_count": 9,
   "metadata": {},
   "outputs": [
    {
     "data": {
      "text/plain": [
       "'to'"
      ]
     },
     "execution_count": 9,
     "metadata": {},
     "output_type": "execute_result"
    }
   ],
   "source": [
    "inplist = [\"Welcome\", \"to\", \"Python\", \"World\"]\n",
    "max(inplist)"
   ]
  }
 ],
 "metadata": {
  "kernelspec": {
   "display_name": "Python 3",
   "language": "python",
   "name": "python3"
  },
  "language_info": {
   "codemirror_mode": {
    "name": "ipython",
    "version": 3
   },
   "file_extension": ".py",
   "mimetype": "text/x-python",
   "name": "python",
   "nbconvert_exporter": "python",
   "pygments_lexer": "ipython3",
   "version": "3.8.3"
  }
 },
 "nbformat": 4,
 "nbformat_minor": 4
}
