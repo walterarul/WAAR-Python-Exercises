{
 "cells": [
  {
   "cell_type": "markdown",
   "metadata": {},
   "source": [
    "# Write a python program to list only directories, files and all directories, files in a specified path"
   ]
  },
  {
   "cell_type": "code",
   "execution_count": 1,
   "metadata": {},
   "outputs": [
    {
     "name": "stdout",
     "output_type": "stream",
     "text": [
      "=====================================================================================================================\n",
      "Files and all directories, files in the specific path \" /Users/arulanandrajwalter/Documents/Python/Classroom/Hands-On/Learn_Modules \" are as below :\n",
      "['Call_Using_name.py', 'Book_Review.py', '.DS_Store', 'Library_Book.py', 'Using_name.py', 'Module1.py', 'OS More Modules.py', 'Module2.py', 'OS Modules.py', 'Date_Time.py', 'Use Random.py']\n",
      "['Module1.cpython-38.pyc', 'Library_Book.cpython-38.pyc', 'Using_name.cpython-38.pyc']\n",
      "=====================================================================================================================\n",
      "Only Directories in a specific path \" /Users/arulanandrajwalter/Documents/Python/Classroom/Hands-On \" are as below :\n",
      "['Learn_Modules', 'Learn_Files', 'Testing', '.ipynb_checkpoints', '.idea']\n",
      "['__pycache__']\n",
      "['inspectionProfiles']\n"
     ]
    }
   ],
   "source": [
    "import os\n",
    "os.chdir('/Users/arulanandrajwalter/Documents/Python/Classroom/Hands-On/Learn_Modules')\n",
    "print('='*117)\n",
    "print(f'Files and all directories, files in the specific path \"',os.getcwd(),f'\" are as below :')\n",
    "for dirpath, dirs, files in os.walk(os.getcwd()):\n",
    "    print(files)\n",
    "\n",
    "os.chdir('/Users/arulanandrajwalter/Documents/Python/Classroom/Hands-On')\n",
    "print('='*117)\n",
    "print(f'Only Directories in a specific path \"',os.getcwd(),f'\" are as below :')\n",
    "for dirpath, dirs, files in os.walk(os.getcwd()):\n",
    "    if len(dirs)!=0:\n",
    "        print(dirs)"
   ]
  }
 ],
 "metadata": {
  "kernelspec": {
   "display_name": "Python 3",
   "language": "python",
   "name": "python3"
  },
  "language_info": {
   "codemirror_mode": {
    "name": "ipython",
    "version": 3
   },
   "file_extension": ".py",
   "mimetype": "text/x-python",
   "name": "python",
   "nbconvert_exporter": "python",
   "pygments_lexer": "ipython3",
   "version": "3.8.3"
  }
 },
 "nbformat": 4,
 "nbformat_minor": 4
}
