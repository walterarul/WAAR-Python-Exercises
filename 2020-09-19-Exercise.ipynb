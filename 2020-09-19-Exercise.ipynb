{
 "cells": [
  {
   "cell_type": "code",
   "execution_count": 10,
   "metadata": {},
   "outputs": [
    {
     "name": "stdout",
     "output_type": "stream",
     "text": [
      "Customer Name        : Anand\n",
      "Customer Phone       : 9841312855\n",
      "Customer Address     : Pazhavanthangal\n",
      "Customer Order       : ('dosa', 'vada', 'idli')\n",
      "Customer Bill Amount : Rs. 275 /-\n"
     ]
    }
   ],
   "source": [
    "class DeliveryFood:\n",
    "    def __init__(self,name1,phone1,address1, *items1):\n",
    "        self.name = name1\n",
    "        self.phone = phone1\n",
    "        self.address = address1\n",
    "        self.items = items1\n",
    "\n",
    "    def cust_details(self):\n",
    "        print(\"Customer Name        :\",self.name)\n",
    "        print(\"Customer Phone       :\",self.phone)\n",
    "        print(\"Customer Address     :\",self.address)\n",
    "\n",
    "    def cust_order(self):\n",
    "        print(\"Customer Order       :\",self.items)\n",
    "\n",
    "    def cust_bill(self):\n",
    "        billamt = 0\n",
    "        for idx in self.items:\n",
    "            if idx == \"dosa\":\n",
    "                billamt = billamt + 150\n",
    "            if idx == \"vada\":\n",
    "                billamt = billamt + 50\n",
    "            if idx == \"idli\":\n",
    "                billamt = billamt + 75\n",
    "        print(\"Customer Bill Amount : Rs.\",billamt,\"/-\")\n",
    "\n",
    "arul = DeliveryFood(\"Anand\",\"9841312855\",\"Pazhavanthangal\",'dosa','vada','idli')\n",
    "arul.cust_details()\n",
    "arul.cust_order()\n",
    "arul.cust_bill()"
   ]
  }
 ],
 "metadata": {
  "kernelspec": {
   "display_name": "Python 3",
   "language": "python",
   "name": "python3"
  },
  "language_info": {
   "codemirror_mode": {
    "name": "ipython",
    "version": 3
   },
   "file_extension": ".py",
   "mimetype": "text/x-python",
   "name": "python",
   "nbconvert_exporter": "python",
   "pygments_lexer": "ipython3",
   "version": "3.8.3"
  }
 },
 "nbformat": 4,
 "nbformat_minor": 4
}
