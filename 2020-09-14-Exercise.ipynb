{
 "cells": [
  {
   "cell_type": "markdown",
   "metadata": {},
   "source": [
    "# Create a program to add the even numbers as a seperate set from the exist set = {23,52,24,75,46,91}"
   ]
  },
  {
   "cell_type": "code",
   "execution_count": 1,
   "metadata": {},
   "outputs": [
    {
     "name": "stdout",
     "output_type": "stream",
     "text": [
      "{24, 52, 46}\n",
      "122\n"
     ]
    }
   ],
   "source": [
    "inpset = {23,52,24,75,46,91}\n",
    "outset = []\n",
    "evetot = 0\n",
    "for idx in inpset:\n",
    "    if(idx%2 == 0):\n",
    "        outset.append(idx)\n",
    "        evetot = (evetot + idx)\n",
    "print(set(outset))\n",
    "print(evetot)"
   ]
  },
  {
   "cell_type": "code",
   "execution_count": 2,
   "metadata": {},
   "outputs": [
    {
     "name": "stdout",
     "output_type": "stream",
     "text": [
      "Input  :  {75, 46, 52, 23, 24, 91}\n",
      "Output :  {24, 52, 46}\n",
      "Total  :  122\n"
     ]
    }
   ],
   "source": [
    "inpset1 = {23,52,24,75,46,91}\n",
    "print(\"Input  : \",inpset1)\n",
    "def eve_tot(iset):\n",
    "    evetot = 0\n",
    "    outset = []\n",
    "    for idx in iset:\n",
    "        #print(idx)\n",
    "        if(idx%2 == 0):\n",
    "            outset.append(idx)\n",
    "            #print(outset)\n",
    "            evetot = (evetot + idx)\n",
    "            #print(evetot)\n",
    "    outset1 = set(outset)\n",
    "    return (outset1,evetot)\n",
    "(outset1,eventot) = eve_tot(inpset1)\n",
    "print(\"Output : \",outset1)\n",
    "print(\"Total  : \",eventot)"
   ]
  }
 ],
 "metadata": {
  "kernelspec": {
   "display_name": "Python 3",
   "language": "python",
   "name": "python3"
  },
  "language_info": {
   "codemirror_mode": {
    "name": "ipython",
    "version": 3
   },
   "file_extension": ".py",
   "mimetype": "text/x-python",
   "name": "python",
   "nbconvert_exporter": "python",
   "pygments_lexer": "ipython3",
   "version": "3.8.3"
  }
 },
 "nbformat": 4,
 "nbformat_minor": 4
}
