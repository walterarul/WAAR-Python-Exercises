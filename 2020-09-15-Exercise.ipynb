{
 "cells": [
  {
   "cell_type": "markdown",
   "metadata": {},
   "source": [
    "# Merge following two python dictionaries into one\n",
    "    # dict1  = {'June':110, 'August':220, 'May':330}\n",
    "    # dict2  = {'May':330, 'December':440,'March':550}\n",
    "    # Output = {'June':110, 'August':220, 'May':330, 'December':440,'March':550}"
   ]
  },
  {
   "cell_type": "code",
   "execution_count": 1,
   "metadata": {},
   "outputs": [
    {
     "name": "stdout",
     "output_type": "stream",
     "text": [
      "{'June': 110, 'August': 220, 'May': 330, 'December': 440, 'March': 550}\n"
     ]
    }
   ],
   "source": [
    "dict1  = {'June':110, 'August':220, 'May':330}\n",
    "dict2  = {'May':330, 'December':440,'March':550}\n",
    "def merge_dict(a,b):\n",
    "    a.update(b)\n",
    "    print(a)\n",
    "merge_dict(dict1,dict2)"
   ]
  },
  {
   "cell_type": "code",
   "execution_count": 2,
   "metadata": {},
   "outputs": [
    {
     "name": "stdout",
     "output_type": "stream",
     "text": [
      "{'June': 110, 'August': 220, 'May': 330, 'December': 440, 'March': 550}\n"
     ]
    }
   ],
   "source": [
    "dict1  = {'June':110, 'August':220, 'May':330}\n",
    "dict2  = {'May':330, 'December':440,'March':550}\n",
    "dict1.update(dict2)\n",
    "print(dict1)"
   ]
  },
  {
   "cell_type": "markdown",
   "metadata": {},
   "source": [
    "### Below are hands on before arriving to the solution"
   ]
  },
  {
   "cell_type": "code",
   "execution_count": 3,
   "metadata": {},
   "outputs": [
    {
     "name": "stdout",
     "output_type": "stream",
     "text": [
      "{'August': 220, 'March': 550, 'June': 110, 'December': 440, 'May': 330}\n"
     ]
    }
   ],
   "source": [
    "dict1  = {'June':110, 'August':220, 'May':330}\n",
    "dict2  = {'May':330, 'December':440,'March':550}\n",
    "def merge_dict(a,b):\n",
    "    print(dict(set(a)|set(b)))\n",
    "merge_dict(dict1.items(),dict2.items())"
   ]
  },
  {
   "cell_type": "code",
   "execution_count": 4,
   "metadata": {},
   "outputs": [
    {
     "name": "stdout",
     "output_type": "stream",
     "text": [
      "[('August', 220), ('March', 550), ('June', 110), ('December', 440), ('May', 330)]\n"
     ]
    }
   ],
   "source": [
    "dict1  = {'June':110, 'August':220, 'May':330}\n",
    "dict2  = {'May':330, 'December':440,'March':550}\n",
    "def merge_dict(a,b):\n",
    "    print(list(set(a)|set(b)))\n",
    "merge_dict(dict1.items(),dict2.items())"
   ]
  },
  {
   "cell_type": "code",
   "execution_count": 5,
   "metadata": {},
   "outputs": [
    {
     "name": "stdout",
     "output_type": "stream",
     "text": [
      "{('August', 220), ('March', 550), ('June', 110), ('December', 440), ('May', 330)}\n"
     ]
    }
   ],
   "source": [
    "dict1  = {'June':110, 'August':220, 'May':330}\n",
    "dict2  = {'May':330, 'December':440,'March':550}\n",
    "def merge_dict(a,b):\n",
    "    print((set(a)|set(b)))\n",
    "merge_dict(dict1.items(),dict2.items())"
   ]
  },
  {
   "cell_type": "code",
   "execution_count": 6,
   "metadata": {},
   "outputs": [
    {
     "name": "stdout",
     "output_type": "stream",
     "text": [
      "[{'May', 'June', 330, 110}, {440, 'August', 220, 'December'}, {'May', 'March', 330, 550}]\n"
     ]
    }
   ],
   "source": [
    "dict1  = {'June':110, 'August':220, 'May':330}\n",
    "dict2  = {'May':330, 'December':440,'March':550}\n",
    "outdict = list(map(lambda a,b:(set(a)|set(b)),dict1.items(),dict2.items()))\n",
    "print(outdict)"
   ]
  }
 ],
 "metadata": {
  "kernelspec": {
   "display_name": "Python 3",
   "language": "python",
   "name": "python3"
  },
  "language_info": {
   "codemirror_mode": {
    "name": "ipython",
    "version": 3
   },
   "file_extension": ".py",
   "mimetype": "text/x-python",
   "name": "python",
   "nbconvert_exporter": "python",
   "pygments_lexer": "ipython3",
   "version": "3.8.3"
  }
 },
 "nbformat": 4,
 "nbformat_minor": 4
}
