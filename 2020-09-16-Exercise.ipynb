{
 "cells": [
  {
   "cell_type": "markdown",
   "metadata": {},
   "source": [
    "# Write a python program to sort a list of tuples using Lambda\n",
    "    #tuple1 = [('Computer',76),('CPU',92),('Mouse',98),('Processor',65)]\n",
    "    #output = [('Processor',65),('Computer',76),('CPU',920,('Mouse',98)]"
   ]
  },
  {
   "cell_type": "code",
   "execution_count": 14,
   "metadata": {},
   "outputs": [
    {
     "name": "stdout",
     "output_type": "stream",
     "text": [
      "[('Processor', 65), ('Computer', 76), ('CPU', 92), ('Mouse', 98)]\n"
     ]
    }
   ],
   "source": [
    "# Solution 1\n",
    "tuple1 = [('Computer',76),('CPU',92),('Mouse',98),('Processor',65)]\n",
    "def tup_sort (tuple2):\n",
    "    tuple2 = sorted(tuple2,key = lambda x: x[1])\n",
    "    return tuple2\n",
    "print(tup_sort(tuple1))"
   ]
  },
  {
   "cell_type": "code",
   "execution_count": 13,
   "metadata": {},
   "outputs": [
    {
     "name": "stdout",
     "output_type": "stream",
     "text": [
      "[('Processor', 65), ('Computer', 76), ('CPU', 92), ('Mouse', 98)]\n"
     ]
    }
   ],
   "source": [
    "# Solution 2\n",
    "tuple1 = [('Computer',76),('CPU',92),('Mouse',98),('Processor',65)]\n",
    "def tup_sort (tuple2):\n",
    "    return sorted(tuple2,key = lambda x: x[1])\n",
    "print(tup_sort(tuple1))"
   ]
  },
  {
   "cell_type": "code",
   "execution_count": 12,
   "metadata": {},
   "outputs": [
    {
     "name": "stdout",
     "output_type": "stream",
     "text": [
      "[('Processor', 65), ('Computer', 76), ('CPU', 92), ('Mouse', 98)]\n"
     ]
    }
   ],
   "source": [
    "# Solution 3\n",
    "tuple1 = [('Computer',76),('CPU',92),('Mouse',98),('Processor',65)]\n",
    "print(sorted(tuple1,key = lambda x: x[1]))"
   ]
  },
  {
   "cell_type": "code",
   "execution_count": 19,
   "metadata": {
    "scrolled": true
   },
   "outputs": [
    {
     "name": "stdout",
     "output_type": "stream",
     "text": [
      "<class 'list'>\n",
      "[('Processor', 65), ('Computer', 76), ('CPU', 92), ('Mouse', 98)]\n",
      "<class 'list'>\n"
     ]
    }
   ],
   "source": [
    "tuple1 = [('Computer',76),('CPU',92),('Mouse',98),('Processor',65)]\n",
    "tuple2 = sorted(tuple1,key = lambda x: x[1])\n",
    "print(type(tuple1))\n",
    "print(tuple2)\n",
    "print(type(tuple2))"
   ]
  },
  {
   "cell_type": "code",
   "execution_count": 21,
   "metadata": {},
   "outputs": [
    {
     "name": "stdout",
     "output_type": "stream",
     "text": [
      "<class 'list'>\n",
      "{('Processor', 65), ('CPU', 92), ('Mouse', 98), ('Computer', 76)}\n",
      "<class 'set'>\n"
     ]
    }
   ],
   "source": [
    "tuple1 = [('Computer',76),('CPU',92),('Mouse',98),('Processor',65)]\n",
    "tuple2 = set(sorted(tuple1,key = lambda x: x[1]))\n",
    "print(tuple1)\n",
    "print(type(tuple1))\n",
    "print(tuple2)\n",
    "print(type(tuple2))"
   ]
  },
  {
   "cell_type": "code",
   "execution_count": 22,
   "metadata": {},
   "outputs": [
    {
     "name": "stdout",
     "output_type": "stream",
     "text": [
      "[('Computer', 76), ('CPU', 92), ('Mouse', 98), ('Processor', 65)]\n",
      "<class 'list'>\n",
      "(('Processor', 65), ('Computer', 76), ('CPU', 92), ('Mouse', 98))\n",
      "<class 'tuple'>\n"
     ]
    }
   ],
   "source": [
    "tuple1 = [('Computer',76),('CPU',92),('Mouse',98),('Processor',65)]\n",
    "tuple2 = tuple(sorted(tuple1,key = lambda x: x[1]))\n",
    "print(tuple1)\n",
    "print(type(tuple1))\n",
    "print(tuple2)\n",
    "print(type(tuple2))"
   ]
  },
  {
   "cell_type": "code",
   "execution_count": 23,
   "metadata": {},
   "outputs": [
    {
     "name": "stdout",
     "output_type": "stream",
     "text": [
      "[('Computer', 76), ('CPU', 92), ('Mouse', 98), ('Processor', 65)]\n",
      "<class 'list'>\n",
      "{'Processor': 65, 'Computer': 76, 'CPU': 92, 'Mouse': 98}\n",
      "<class 'dict'>\n"
     ]
    }
   ],
   "source": [
    "tuple1 = [('Computer',76),('CPU',92),('Mouse',98),('Processor',65)]\n",
    "tuple2 = dict(sorted(tuple1,key = lambda x: x[1]))\n",
    "print(tuple1)\n",
    "print(type(tuple1))\n",
    "print(tuple2)\n",
    "print(type(tuple2))"
   ]
  }
 ],
 "metadata": {
  "kernelspec": {
   "display_name": "Python 3",
   "language": "python",
   "name": "python3"
  },
  "language_info": {
   "codemirror_mode": {
    "name": "ipython",
    "version": 3
   },
   "file_extension": ".py",
   "mimetype": "text/x-python",
   "name": "python",
   "nbconvert_exporter": "python",
   "pygments_lexer": "ipython3",
   "version": "3.8.3"
  }
 },
 "nbformat": 4,
 "nbformat_minor": 4
}
