{
 "cells": [
  {
   "cell_type": "markdown",
   "metadata": {},
   "source": [
    "# Write a program to print yesterday, today and tomorrow"
   ]
  },
  {
   "cell_type": "code",
   "execution_count": 1,
   "metadata": {},
   "outputs": [
    {
     "name": "stdout",
     "output_type": "stream",
     "text": [
      "Today     : 2020-10-01\n",
      "Tomorrow  : 2020-10-02\n",
      "Yesterday : 2020-09-30\n"
     ]
    }
   ],
   "source": [
    "import datetime\n",
    "print(\"Today     :\",datetime.date.today()) \n",
    "print(\"Tomorrow  :\",datetime.date.today()+datetime.timedelta(days=1))\n",
    "print(\"Yesterday :\",datetime.date.today()+datetime.timedelta(days=-1))"
   ]
  }
 ],
 "metadata": {
  "kernelspec": {
   "display_name": "Python 3",
   "language": "python",
   "name": "python3"
  },
  "language_info": {
   "codemirror_mode": {
    "name": "ipython",
    "version": 3
   },
   "file_extension": ".py",
   "mimetype": "text/x-python",
   "name": "python",
   "nbconvert_exporter": "python",
   "pygments_lexer": "ipython3",
   "version": "3.8.3"
  }
 },
 "nbformat": 4,
 "nbformat_minor": 4
}
