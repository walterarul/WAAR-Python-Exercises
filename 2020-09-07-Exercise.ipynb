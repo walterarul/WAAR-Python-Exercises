{
 "cells": [
  {
   "cell_type": "markdown",
   "metadata": {},
   "source": [
    "Turn this every item of a list into its square\n",
    "\n",
    "input = [1, 2, 3, 4, 5, 6, 7]\n",
    "\n",
    "output = [1, 4, 9, 16, 25, 36, 49]"
   ]
  },
  {
   "cell_type": "code",
   "execution_count": 1,
   "metadata": {},
   "outputs": [
    {
     "name": "stdout",
     "output_type": "stream",
     "text": [
      "Input Type   :  <class 'list'>\n",
      "Input Length :  7\n",
      "Input        :  [1, 2, 3, 4, 5, 6, 7]\n",
      "Output       :  [1, 4, 9, 16, 25, 36, 49]\n"
     ]
    }
   ],
   "source": [
    "InputList = [1,2,3,4,5,6,7]\n",
    "print(\"Input Type   : \", type(InputList))\n",
    "print(\"Input Length : \", len(InputList))\n",
    "print(\"Input        : \", InputList)\n",
    "OutputList = list()\n",
    "OutputList = InputList\n",
    "for idx in range(0,len(InputList)):\n",
    "    OutputList[idx] = (InputList[idx]**2)\n",
    "print(\"Output       : \", OutputList)"
   ]
  },
  {
   "cell_type": "markdown",
   "metadata": {},
   "source": [
    "Concatenate two lists in the following order\n",
    "\n",
    "input: list1 = [\"Hello \", \"Hi\"] \n",
    "\n",
    "list2 = [\"Divya\", \"Sam\"] \n",
    "\n",
    "output: ['Hello Divya', 'Hello Sam', 'Hi Divya', 'Hi Sam']"
   ]
  },
  {
   "cell_type": "code",
   "execution_count": 2,
   "metadata": {},
   "outputs": [
    {
     "name": "stdout",
     "output_type": "stream",
     "text": [
      "List1  :  ['Hello', 'Hi']\n",
      "List2  :  ['Divya', 'Sam']\n",
      "Output :  ['Hello Divya', 'Hello Sam', 'Hi Divya', 'Hi Sam']\n"
     ]
    }
   ],
   "source": [
    "List1 = [\"Hello\",\"Hi\"]\n",
    "print(\"List1  : \", List1)\n",
    "List2 = [\"Divya\",\"Sam\"]\n",
    "print(\"List2  : \", List2)\n",
    "List3 = list()\n",
    "List3 = List1 + List2\n",
    "Tidx = 0\n",
    "for Fidx in range(0,len(List1)):\n",
    "    for Sidx in range(0,len(List2)):\n",
    "        List3[Tidx] = (List1[Fidx]+ \" \" +List2[Sidx])\n",
    "        Tidx = Tidx + 1\n",
    "print(\"Output : \", List3)"
   ]
  }
 ],
 "metadata": {
  "kernelspec": {
   "display_name": "Python 3",
   "language": "python",
   "name": "python3"
  },
  "language_info": {
   "codemirror_mode": {
    "name": "ipython",
    "version": 3
   },
   "file_extension": ".py",
   "mimetype": "text/x-python",
   "name": "python",
   "nbconvert_exporter": "python",
   "pygments_lexer": "ipython3",
   "version": "3.8.3"
  }
 },
 "nbformat": 4,
 "nbformat_minor": 4
}
