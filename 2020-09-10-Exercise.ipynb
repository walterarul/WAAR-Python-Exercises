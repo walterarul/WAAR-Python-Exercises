{
 "cells": [
  {
   "cell_type": "markdown",
   "metadata": {},
   "source": [
    "## Concatenate two list\n",
    "list1 = [\"Wel\",\"T\",\"Pyt\",\"Wor\"]\n",
    "list2 = [\"come\",\"o\",\"hon\",\"ld\"]\n",
    "Output : ['Welcome', 'To', 'Python', 'World']"
   ]
  },
  {
   "cell_type": "code",
   "execution_count": 1,
   "metadata": {},
   "outputs": [
    {
     "name": "stdout",
     "output_type": "stream",
     "text": [
      "First  input list items :  ['Wel', 'T', 'Pyt', 'Wor']\n",
      "Second input list items :  ['come', 'o', 'hon', 'ld']\n",
      "Concatenated list items :  ['Welcome', 'To', 'Python', 'World']\n"
     ]
    }
   ],
   "source": [
    "list1 = [\"Wel\",\"T\",\"Pyt\",\"Wor\"]\n",
    "list2 = [\"come\",\"o\",\"hon\",\"ld\"]\n",
    "list3 = []\n",
    "for idx in range(len(list1)):\n",
    "    list3.insert(idx, list1[idx]+list2[idx])\n",
    "print(\"First  input list items : \",list1)\n",
    "print(\"Second input list items : \",list2)\n",
    "print(\"Concatenated list items : \",list3)"
   ]
  }
 ],
 "metadata": {
  "kernelspec": {
   "display_name": "Python 3",
   "language": "python",
   "name": "python3"
  },
  "language_info": {
   "codemirror_mode": {
    "name": "ipython",
    "version": 3
   },
   "file_extension": ".py",
   "mimetype": "text/x-python",
   "name": "python",
   "nbconvert_exporter": "python",
   "pygments_lexer": "ipython3",
   "version": "3.8.3"
  }
 },
 "nbformat": 4,
 "nbformat_minor": 4
}
