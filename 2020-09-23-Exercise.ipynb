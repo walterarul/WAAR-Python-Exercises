{
 "cells": [
  {
   "cell_type": "markdown",
   "metadata": {},
   "source": [
    "# Create child class Lion that will inherit all the variables and methods of the Animal Class"
   ]
  },
  {
   "cell_type": "code",
   "execution_count": 1,
   "metadata": {},
   "outputs": [
    {
     "name": "stdout",
     "output_type": "stream",
     "text": [
      "Class Animals\n",
      "Class Lion\n",
      "I am Lion\n",
      "I have 4 legs\n",
      "I am also called the KING OF JUNGLE\n"
     ]
    }
   ],
   "source": [
    "class Animals:\n",
    "    print(\"Class Animals\")\n",
    "    def __init__(self,aname,alegsct,aliasname):\n",
    "        self.name = aname\n",
    "        self.legsct = alegsct\n",
    "        self.nickname = aliasname\n",
    "        \n",
    "    def charcter(self):\n",
    "        print(\"I am\",self.name)\n",
    "        print(\"I have\",self.legsct,\"legs\")\n",
    "        print(\"I am also called the\",self.nickname.upper())\n",
    "    \n",
    "class Lion(Animals):\n",
    "    print(\"Class Lion\")\n",
    "    \n",
    "\n",
    "alion = Lion(\"Lion\",4,\"King of Jungle\")\n",
    "alion.charcter()\n",
    "    "
   ]
  }
 ],
 "metadata": {
  "kernelspec": {
   "display_name": "Python 3",
   "language": "python",
   "name": "python3"
  },
  "language_info": {
   "codemirror_mode": {
    "name": "ipython",
    "version": 3
   },
   "file_extension": ".py",
   "mimetype": "text/x-python",
   "name": "python",
   "nbconvert_exporter": "python",
   "pygments_lexer": "ipython3",
   "version": "3.8.3"
  }
 },
 "nbformat": 4,
 "nbformat_minor": 4
}
