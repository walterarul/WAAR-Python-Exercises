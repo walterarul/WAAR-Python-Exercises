{
 "cells": [
  {
   "cell_type": "markdown",
   "metadata": {},
   "source": [
    "# Write a function in Python to count words in a text file those are ending wth alphabet \"e\"."
   ]
  },
  {
   "cell_type": "code",
   "execution_count": 1,
   "metadata": {},
   "outputs": [
    {
     "name": "stdout",
     "output_type": "stream",
     "text": [
      "Total count of words ending with alphabet 'e' is : 10\n",
      "The words ending with alphabet 'e' are as below  :\n",
      " ['The', 'e', 'are', 'three', ',free', ',breeze', ',squeeze', ',peace', ',place', ',race']\n"
     ]
    }
   ],
   "source": [
    "with open('InputFileWordCount.txt') as opfile1:\n",
    "    count = 0\n",
    "    wordlst = []\n",
    "    for i in opfile1.read().split(\" \"):\n",
    "        if i.endswith(\"e\"):\n",
    "            wordlst.append(i)\n",
    "            count = count + 1\n",
    "    print(\"Total count of words ending with alphabet 'e' is :\",count)\n",
    "    print(\"The words ending with alphabet 'e' are as below  :\\n\",wordlst)"
   ]
  }
 ],
 "metadata": {
  "kernelspec": {
   "display_name": "Python 3",
   "language": "python",
   "name": "python3"
  },
  "language_info": {
   "codemirror_mode": {
    "name": "ipython",
    "version": 3
   },
   "file_extension": ".py",
   "mimetype": "text/x-python",
   "name": "python",
   "nbconvert_exporter": "python",
   "pygments_lexer": "ipython3",
   "version": "3.8.3"
  }
 },
 "nbformat": 4,
 "nbformat_minor": 4
}
