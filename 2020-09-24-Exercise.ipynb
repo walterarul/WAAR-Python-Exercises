{
 "cells": [
  {
   "cell_type": "markdown",
   "metadata": {},
   "source": [
    "# Create two class named Dog, Cat and declare constructors to assigning name and age.  Define a methods color and sound in both classes and print Dog and Cat's color and sound"
   ]
  },
  {
   "cell_type": "code",
   "execution_count": 1,
   "metadata": {},
   "outputs": [
    {
     "name": "stdout",
     "output_type": "stream",
     "text": [
      "\n",
      "Details of my pet Dog as follows :\n",
      "Name   of Dog is : Thora\n",
      "Age    of Dog is : 8\n",
      "Colour of Dog is : Golden Brown\n",
      "Sound  of Dog is : Bow Bow\n",
      "\n",
      "Details of my pet Cat as follows :\n",
      "Name   of Cat is : Theona\n",
      "Age    of Cat is : 4\n",
      "Colour of Cat is : Silver Grey\n",
      "Sound  of Cat is : Meaw Meaw\n"
     ]
    }
   ],
   "source": [
    "class Dog():\n",
    "    def __init__(self,dname,dage):\n",
    "        self.name = dname\n",
    "        self.age = dage\n",
    "        print(\"\\nDetails of my pet Dog as follows :\")\n",
    "        print(\"Name   of Dog is :\",self.name)\n",
    "        print(\"Age    of Dog is :\",self.age)\n",
    "        \n",
    "    def color(self,dcolor):\n",
    "        print(\"Colour of Dog is :\",dcolor)\n",
    "        \n",
    "    def sound(self,dsound):\n",
    "        print(\"Sound  of Dog is :\",dsound)\n",
    "        \n",
    "class Cat():\n",
    "    def __init__(self,cname,cage):\n",
    "        self.name = cname\n",
    "        self.age = cage\n",
    "        print(\"\\nDetails of my pet Cat as follows :\")\n",
    "        print(\"Name   of Cat is :\",self.name)\n",
    "        print(\"Age    of Cat is :\",self.age)\n",
    "    \n",
    "    def color(self,ccolor):\n",
    "        print(\"Colour of Cat is :\",ccolor)\n",
    "        \n",
    "    def sound(self,csound):\n",
    "        print(\"Sound  of Cat is :\",csound)\n",
    "        \n",
    "\n",
    "doggy = Dog(\"Thora\",8)\n",
    "doggy.color(\"Golden Brown\")\n",
    "doggy.sound(\"Bow Bow\")\n",
    "\n",
    "pussy = Cat(\"Theona\",4)\n",
    "pussy.color(\"Silver Grey\")\n",
    "pussy.sound(\"Meaw Meaw\")"
   ]
  }
 ],
 "metadata": {
  "kernelspec": {
   "display_name": "Python 3",
   "language": "python",
   "name": "python3"
  },
  "language_info": {
   "codemirror_mode": {
    "name": "ipython",
    "version": 3
   },
   "file_extension": ".py",
   "mimetype": "text/x-python",
   "name": "python",
   "nbconvert_exporter": "python",
   "pygments_lexer": "ipython3",
   "version": "3.8.3"
  }
 },
 "nbformat": 4,
 "nbformat_minor": 4
}
