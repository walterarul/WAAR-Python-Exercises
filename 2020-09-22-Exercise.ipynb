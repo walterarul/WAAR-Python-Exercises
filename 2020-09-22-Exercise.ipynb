{
 "cells": [
  {
   "cell_type": "markdown",
   "metadata": {},
   "source": [
    "# Write a map function that returns the squares of the items in the list\n",
    "    list1 = [20,40,60,80,100,120]"
   ]
  },
  {
   "cell_type": "code",
   "execution_count": 1,
   "metadata": {},
   "outputs": [
    {
     "name": "stdout",
     "output_type": "stream",
     "text": [
      "[400, 1600, 3600, 6400, 10000, 14400]\n"
     ]
    }
   ],
   "source": [
    "list1 = [20,40,60,80,100,120]\n",
    "print(list(map(lambda n: n**2,list1)))"
   ]
  },
  {
   "cell_type": "code",
   "execution_count": 2,
   "metadata": {},
   "outputs": [
    {
     "name": "stdout",
     "output_type": "stream",
     "text": [
      "[400, 1600, 3600, 6400, 10000, 14400]\n"
     ]
    }
   ],
   "source": [
    "print(list(map(lambda n: n**2,[20,40,60,80,100,120])))"
   ]
  },
  {
   "cell_type": "code",
   "execution_count": 3,
   "metadata": {
    "scrolled": true
   },
   "outputs": [
    {
     "name": "stdout",
     "output_type": "stream",
     "text": [
      "[400, 1600, 3600, 6400, 10000, 14400]\n"
     ]
    }
   ],
   "source": [
    "#Using List Cmprehension - here a list is permanently created and memory allocaated to list1\n",
    "list1 = [num**2 for num in [20,40,60,80,100,120]]\n",
    "print(list1)"
   ]
  },
  {
   "cell_type": "code",
   "execution_count": 4,
   "metadata": {},
   "outputs": [
    {
     "name": "stdout",
     "output_type": "stream",
     "text": [
      "[400, 1600, 3600, 6400, 10000, 14400]\n"
     ]
    }
   ],
   "source": [
    "#Using List Cmprehension - here no list is permanently created\n",
    "print([num**2 for num in [20,40,60,80,100,120]])"
   ]
  }
 ],
 "metadata": {
  "kernelspec": {
   "display_name": "Python 3",
   "language": "python",
   "name": "python3"
  },
  "language_info": {
   "codemirror_mode": {
    "name": "ipython",
    "version": 3
   },
   "file_extension": ".py",
   "mimetype": "text/x-python",
   "name": "python",
   "nbconvert_exporter": "python",
   "pygments_lexer": "ipython3",
   "version": "3.8.3"
  }
 },
 "nbformat": 4,
 "nbformat_minor": 4
}
