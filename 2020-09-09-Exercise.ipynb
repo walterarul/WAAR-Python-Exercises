{
 "cells": [
  {
   "cell_type": "markdown",
   "metadata": {},
   "source": [
    "## Write a program that accepts a word from the user and reverse it using for loop"
   ]
  },
  {
   "cell_type": "code",
   "execution_count": 1,
   "metadata": {},
   "outputs": [
    {
     "name": "stdout",
     "output_type": "stream",
     "text": [
      "Enter a word to Reverse  : MIRUNA JOE AMALI\n",
      "Reversed Word from input : ILAMA EOJ ANURIM\n"
     ]
    }
   ],
   "source": [
    "InpStr = input(\"Enter a word to Reverse  : \")\n",
    "print(\"Reversed Word from input :\",InpStr[::-1])"
   ]
  },
  {
   "cell_type": "code",
   "execution_count": 2,
   "metadata": {},
   "outputs": [
    {
     "name": "stdout",
     "output_type": "stream",
     "text": [
      "Enter a word to Reverse  : DONNA LUZZ PERTINAA\n",
      "Reversed Word from input : AANITREP ZZUL ANNOD"
     ]
    }
   ],
   "source": [
    "InpStr1 = input(\"Enter a word to Reverse  : \")\n",
    "print(\"Reversed Word from input : \",end=\"\")\n",
    "for idx in range(len(InpStr1)-1,-1,-1):\n",
    "    print(InpStr1[idx],end=\"\")"
   ]
  }
 ],
 "metadata": {
  "kernelspec": {
   "display_name": "Python 3",
   "language": "python",
   "name": "python3"
  },
  "language_info": {
   "codemirror_mode": {
    "name": "ipython",
    "version": 3
   },
   "file_extension": ".py",
   "mimetype": "text/x-python",
   "name": "python",
   "nbconvert_exporter": "python",
   "pygments_lexer": "ipython3",
   "version": "3.8.3"
  }
 },
 "nbformat": 4,
 "nbformat_minor": 4
}
