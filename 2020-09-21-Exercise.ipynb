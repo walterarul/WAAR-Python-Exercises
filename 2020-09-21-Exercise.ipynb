{
 "cells": [
  {
   "cell_type": "markdown",
   "metadata": {},
   "source": [
    "# Create a new list which contains the elements only starts with  'A' using filter function\n",
    "    #Input = [\"Apple\",\"Banana\",\"Guava\",\"Apricot\",\"Mango\",\"Avocados\"]\n",
    "    #Output = [\"Apple\",\"Apricot\",\"Avocados\"]"
   ]
  },
  {
   "cell_type": "code",
   "execution_count": 1,
   "metadata": {},
   "outputs": [
    {
     "data": {
      "text/plain": [
       "['Apple', 'Apricot', 'Avocados']"
      ]
     },
     "execution_count": 1,
     "metadata": {},
     "output_type": "execute_result"
    }
   ],
   "source": [
    "inplst = [\"Apple\",\"Banana\",\"Guava\",\"Apricot\",\"Mango\",\"Avocados\"]\n",
    "fn1 = lambda n : n.startswith('A')\n",
    "list(filter(fn1,inplst)) "
   ]
  },
  {
   "cell_type": "code",
   "execution_count": 2,
   "metadata": {},
   "outputs": [
    {
     "data": {
      "text/plain": [
       "['Apple', 'Apricot', 'Avocados']"
      ]
     },
     "execution_count": 2,
     "metadata": {},
     "output_type": "execute_result"
    }
   ],
   "source": [
    "inplst = [\"Apple\",\"Banana\",\"Guava\",\"Apricot\",\"Mango\",\"Avocados\"]\n",
    "list(filter(lambda n : n.startswith('A'),inplst)) "
   ]
  }
 ],
 "metadata": {
  "kernelspec": {
   "display_name": "Python 3",
   "language": "python",
   "name": "python3"
  },
  "language_info": {
   "codemirror_mode": {
    "name": "ipython",
    "version": 3
   },
   "file_extension": ".py",
   "mimetype": "text/x-python",
   "name": "python",
   "nbconvert_exporter": "python",
   "pygments_lexer": "ipython3",
   "version": "3.8.3"
  }
 },
 "nbformat": 4,
 "nbformat_minor": 4
}
