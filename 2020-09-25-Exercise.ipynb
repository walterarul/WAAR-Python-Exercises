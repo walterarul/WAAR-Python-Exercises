{
 "cells": [
  {
   "cell_type": "markdown",
   "metadata": {},
   "source": [
    "# Create class Base_1, Base_2\n",
    "# Create another class Child and inherit the above 2 classes\n",
    "# Create object for child class and call all 3 class methods"
   ]
  },
  {
   "cell_type": "code",
   "execution_count": 1,
   "metadata": {},
   "outputs": [
    {
     "name": "stdout",
     "output_type": "stream",
     "text": [
      "This is the method in base1\n",
      "This is the method in base2\n",
      "This is the method in child\n"
     ]
    }
   ],
   "source": [
    "class Base_1():\n",
    "\n",
    "    def base1(self):\n",
    "        print(\"This is the method in base1\")\n",
    "        \n",
    "class Base_2():\n",
    "\n",
    "    def base2(self):\n",
    "        print(\"This is the method in base2\")\n",
    "        \n",
    "class Child(Base_1,Base_2):\n",
    "           \n",
    "    def child_method(self):\n",
    "        print(\"This is the method in child\")  \n",
    "        \n",
    "kid = Child()\n",
    "kid.base1()\n",
    "kid.base2()\n",
    "kid.child_method()"
   ]
  },
  {
   "cell_type": "code",
   "execution_count": null,
   "metadata": {},
   "outputs": [],
   "source": []
  }
 ],
 "metadata": {
  "kernelspec": {
   "display_name": "Python 3",
   "language": "python",
   "name": "python3"
  },
  "language_info": {
   "codemirror_mode": {
    "name": "ipython",
    "version": 3
   },
   "file_extension": ".py",
   "mimetype": "text/x-python",
   "name": "python",
   "nbconvert_exporter": "python",
   "pygments_lexer": "ipython3",
   "version": "3.8.3"
  }
 },
 "nbformat": 4,
 "nbformat_minor": 4
}
